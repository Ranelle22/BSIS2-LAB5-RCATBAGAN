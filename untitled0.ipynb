{
  "nbformat": 4,
  "nbformat_minor": 0,
  "metadata": {
    "colab": {
      "provenance": [],
      "authorship_tag": "ABX9TyNF3XYIFs4QwVzSUeZo3g7j",
      "include_colab_link": true
    },
    "kernelspec": {
      "name": "python3",
      "display_name": "Python 3"
    },
    "language_info": {
      "name": "python"
    }
  },
  "cells": [
    {
      "cell_type": "markdown",
      "metadata": {
        "id": "view-in-github",
        "colab_type": "text"
      },
      "source": [
        "<a href=\"https://colab.research.google.com/github/Ranelle22/BSIS2-LAB5-RCATBAGAN/blob/main/untitled0.ipynb\" target=\"_parent\"><img src=\"https://colab.research.google.com/assets/colab-badge.svg\" alt=\"Open In Colab\"/></a>"
      ]
    },
    {
      "cell_type": "code",
      "source": [
        "temp = int(input(\"What is the temperature outside? : \"))\n",
        "\n",
        "if temp >= 0 and temp <= 30:\n",
        "  print(\"the temperature is good today\")\n",
        "    print(\"can go outside!\")\n",
        "    elif temp <0 or temp >30:\n",
        "      print(\"the temperature is bad today\")\n",
        "        print(\"must stay inside!\")"
      ],
      "metadata": {
        "id": "wu348uw8DMuo"
      },
      "execution_count": null,
      "outputs": []
    }
  ]
}